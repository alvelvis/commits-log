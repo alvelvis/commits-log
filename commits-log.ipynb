{
 "cells": [
  {
   "cell_type": "markdown",
   "metadata": {},
   "source": [
    "# Generate a log of commits from a Github repository using Python3/Jupyter-notebook"
   ]
  },
  {
   "cell_type": "markdown",
   "metadata": {},
   "source": [
    "## User variables\n",
    "\n",
    "One commit link per line\n",
    "\n",
    "Add comments to the commits by adding `|comment` after the link"
   ]
  },
  {
   "cell_type": "code",
   "execution_count": 1,
   "metadata": {},
   "outputs": [],
   "source": [
    "logName = \"Bosque-UD 2.5\"\n",
    "logVersion = \"1\"\n",
    "xpLink = \"https://comcorhd.ga/xp/commits-log\"\n",
    "repoLink = \"https://github.com/UniversalDependencies/UD_Portuguese-Bosque\"\n",
    "initialCommit = \"02bf943fd9cd28aae35aa481b09d675b5974b196\"\n",
    "finalCommit = \"https://github.com/alvelvis/UD_Portuguese-Bosque/commit/25fb8f7323c04a13147290ff133d95b9ed893134\"\n",
    "commitsLinks = '''\n",
    "https://github.com/alvelvis/UD_Portuguese-Bosque/commit/b94ee2908404475aaf65f3358d05bd39366e2ee3\n",
    "https://github.com/alvelvis/UD_Portuguese-Bosque/commit/4ef856b77a79071ba9c4c38afc056a5474f29423|<a target=\"_blank\" href=\"https://docs.google.com/document/d/1Vu90BuIBNYUDkQmeicpoPl9xHMzJaIP0a0Z29U6kjdE/edit\">Relatório de correções de features desde 2.3</a>\n",
    "https://github.com/alvelvis/UD_Portuguese-Bosque/commit/dec21d23c028f361c87be469ab2ede6d653077b6\n",
    "fedb13cea2cd37a781b48013f960b184d8164660\n",
    "https://github.com/alvelvis/UD_Portuguese-Bosque/commit/3614f1800e45e288c47ff997474efd39fabac614/\n",
    "https://github.com/alvelvis/UD_Portuguese-Bosque/commit/afc588318bdcde36680e1ad3aae7c6fe50a98508\n",
    "https://github.com/alvelvis/UD_Portuguese-Bosque/commit/7b73d506270f0d9da030e7d287516a8fac0e397b\n",
    "https://github.com/alvelvis/UD_Portuguese-Bosque/commit/b9243f3921000f22990d5dfd181507638010dc50\n",
    "https://github.com/alvelvis/UD_Portuguese-Bosque/commit/136e924b6294692e2ca9c15b7cb15a7b880141d3\n",
    "https://github.com/alvelvis/UD_Portuguese-Bosque/commit/aab3b33a7b093ec86e303bd953a40355fc4f0070\n",
    "https://github.com/alvelvis/UD_Portuguese-Bosque/commit/abe18ec276f7b6f12fa0ec215dd77139485ba9f8\n",
    "https://github.com/alvelvis/UD_Portuguese-Bosque/commit/fbd8936988b46e1cddb29b048f853da1f4c7b634\n",
    "https://github.com/alvelvis/UD_Portuguese-Bosque/commit/b7a954f66d3fce38bfa1e33c91c5251a8842c48d\n",
    "https://github.com/alvelvis/UD_Portuguese-Bosque/commit/c7516121b148fc8d7c8ad78a7e6dd29b3dc2adbb\n",
    "https://github.com/alvelvis/UD_Portuguese-Bosque/commit/ad848e26439a90eb29b7b5796dacc7e8c24658a5\n",
    "https://github.com/alvelvis/UD_Portuguese-Bosque/commit/f550edb6b6e5994f4aa4a0bbed133c7f13192f59\n",
    "https://github.com/alvelvis/UD_Portuguese-Bosque/commit/8127a24a3deac50b36d6baf7f5c565e0ce181ed7\n",
    "https://github.com/alvelvis/UD_Portuguese-Bosque/commit/9b292715bfefa704dfa57ae20e6c6c673ed0f2b4\n",
    "https://github.com/alvelvis/UD_Portuguese-Bosque/commit/b049b00f167d411e211b44669f3b8fdff080bdad\n",
    "https://github.com/alvelvis/UD_Portuguese-Bosque/commit/8f7bf75bfb077609851dc382a8761b60c211d09c\n",
    "https://github.com/alvelvis/UD_Portuguese-Bosque/commit/ce9f2617539845c86461bd1cea0438f523650fed\n",
    "https://github.com/alvelvis/UD_Portuguese-Bosque/commit/000d28eb23cd9494c2872fe6ee041ae35ab5d439\n",
    "https://github.com/alvelvis/UD_Portuguese-Bosque/commit/92fc86a54342f27e39a55aba40f49ac8eba3ee9b|<a target=\"_blank\" href=\"https://docs.google.com/document/d/1GTzaYaDli4xjxshkZ6_NZbvPOD1u5zcGwRmJqyR25qk/edit#heading=h.mp566x6a7wfr\">Relatório de pontuação pós-Bosque-UD 2.4</a>\n",
    "https://github.com/alvelvis/UD_Portuguese-Bosque/commit/f0e7c3676a66cb17572ce92a3f4042547e95bce7\n",
    "https://github.com/alvelvis/UD_Portuguese-Bosque/commit/b46a6b105bc320a604e1252a0188ffde548f28aa\n",
    "https://github.com/alvelvis/UD_Portuguese-Bosque/commit/fd7fa249ef6812acb0a87c8ded03a74760e9a6cb\n",
    "https://github.com/alvelvis/UD_Portuguese-Bosque/commit/d833d5d755ed5ac19b59d10fea9e05e24c518a7a\n",
    "https://github.com/alvelvis/UD_Portuguese-Bosque/commit/cae17634965acb8c9414bc7f012c6b3da40c982a\n",
    "https://github.com/alvelvis/UD_Portuguese-Bosque/commit/425e2f8c0ea1fa4bea3b0fab3bae17595de951fd\n",
    "https://github.com/alvelvis/UD_Portuguese-Bosque/commit/0ba5a48c029266a99d30dfcdaf22526c90c42bed|<a target=\"_blank\" href=\"https://www.overleaf.com/project/5d1dee877ca0ca2fddf340f1\">Artigo aceito no JDP 2019 sobre as locuções verbais</a>\n",
    "https://github.com/alvelvis/UD_Portuguese-Bosque/commit/ba3a0d5e3b4983d6431fcea8a5945a8b07552804\n",
    "https://github.com/alvelvis/UD_Portuguese-Bosque/commit/f5987b525440a15887fa373f75b96c16a097e9c7\n",
    "https://github.com/alvelvis/UD_Portuguese-Bosque/commit/1bc17abf7a495826973735b824941217d6057053\n",
    "https://github.com/alvelvis/UD_Portuguese-Bosque/commit/24b2d0ebbcaf4a6403df974f7df0974d21f23900|<a target=\"_blank\" href=\"/xp/dep_Elvis/dep_Elvis.html\">Relatório de correções de dep desde 2.3</a>\n",
    "https://github.com/alvelvis/UD_Portuguese-Bosque/commit/d0a77b84ee413f70130862db171b8d259da9d1fd\n",
    "https://github.com/alvelvis/UD_Portuguese-Bosque/commit/a9b60db18676ce5e7e415ad120fb757b00e5a03e\n",
    "https://github.com/alvelvis/UD_Portuguese-Bosque/commit/70ea68118ccb6de8ff94e1a5d2c7e3697b60e2d1\n",
    "https://github.com/alvelvis/UD_Portuguese-Bosque/commit/454241d9b3f74fa6a51f0f3df034122a46e9dd24\n",
    "https://github.com/alvelvis/UD_Portuguese-Bosque/commit/5e326dc545a987e90637f8368899242bcf403f4b|Relatório da Tatiana disponível em breve\n",
    "https://github.com/alvelvis/UD_Portuguese-Bosque/commit/3057b47adcf0c85817c1aa625a189eb1fb684828\n",
    "https://github.com/alvelvis/UD_Portuguese-Bosque/commit/f0bc88d600dbe01cb1225e36212b60f3406b4947\n",
    "https://github.com/alvelvis/UD_Portuguese-Bosque/commit/b4538d8926d852c9c65ca98eda19384060ad0f8e|Relatório da Wogue disponível em breve\n",
    "https://github.com/alvelvis/UD_Portuguese-Bosque/commit/94ccd438157a3a5d5c504093b5dd7bc03927b1db\n",
    "https://github.com/alvelvis/UD_Portuguese-Bosque/commit/3b316f28f0333940adfa00d3d4e5aa4afb0a76ae\n",
    "https://github.com/alvelvis/UD_Portuguese-Bosque/commit/61e557b2da9f5679bf3eeb050061eb81e7bb0f5c\n",
    "https://github.com/alvelvis/UD_Portuguese-Bosque/commit/7f4026de91c29eded539fda177e18de0f2245489\n",
    "https://github.com/alvelvis/UD_Portuguese-Bosque/commit/53b2dd95c97130a19fe5b271453eb6403836e2b7\n",
    "https://github.com/alvelvis/UD_Portuguese-Bosque/commit/f4c1d7411436acb4827746dc3f4bcd4f3e2d3dc6\n",
    "https://github.com/alvelvis/UD_Portuguese-Bosque/commit/6d78b24815aca182a846cf1839fddfc94a90b2c7|Relatório da Aline disponível em breve\n",
    "https://github.com/alvelvis/UD_Portuguese-Bosque/commit/76c865f22670bcf71d1777e060cdb0e80655837e\n",
    "https://github.com/alvelvis/UD_Portuguese-Bosque/commit/3f6e804a01a83f5c3e243b3bf847ef3d03d9d8e8\n",
    "https://github.com/alvelvis/UD_Portuguese-Bosque/commit/ee761fde9666f3db166dff7169351ebcc99e82c8\n",
    "https://github.com/alvelvis/UD_Portuguese-Bosque/commit/69016af720c13248abc486004e6f128100fa5997|Tatiana - revisar\n",
    "https://github.com/alvelvis/UD_Portuguese-Bosque/commit/e79c69c158349b7bd0c325b4a81017f89734fa3a|Esse commit dependia das revisões de dependência do acl:relcl\n",
    "https://github.com/alvelvis/UD_Portuguese-Bosque/commit/61b12bf92b4bad6ca50d46b99e3c5b836973f3ec|Wogue - revisar<br>Relatório da Wogue disponível em breve\n",
    "https://github.com/alvelvis/UD_Portuguese-Bosque/commit/4f5ea94d6dc123d010ee7b8995dfa77da1a84615|Wogue - revisar\n",
    "https://github.com/alvelvis/UD_Portuguese-Bosque/commit/c5e1045ddfbf2cd378fb91d240e3ca3b690630c0|Wogue - revisar\n",
    "https://github.com/alvelvis/UD_Portuguese-Bosque/commit/94902f0f71c6c2a6a82a0ffdb99b6d034a5eefb0|Aline - revisar\n",
    "https://github.com/alvelvis/UD_Portuguese-Bosque/commit/32e13f3a2c843a3c2bbc57c5b595cbee2d68a47d|Aline - revisar\n",
    "https://github.com/alvelvis/UD_Portuguese-Bosque/commit/680aca69b30619f6faea0b7122c5a124f4e3e45a\n",
    "https://github.com/UniversalDependencies/UD_Portuguese-Bosque/commit/184d4f74a5f6e1d2728fd6a6237f545dd1754545\n",
    "'''.strip().split(\"\\n\")"
   ]
  },
  {
   "cell_type": "markdown",
   "metadata": {},
   "source": [
    "## Libraries"
   ]
  },
  {
   "cell_type": "code",
   "execution_count": 2,
   "metadata": {},
   "outputs": [
    {
     "name": "stdout",
     "output_type": "stream",
     "text": [
      "Requirement already satisfied: pyquery in /home/elvis/.local/lib/python3.7/site-packages (1.4.0)\r\n",
      "Requirement already satisfied: cssselect>0.7.9 in /home/elvis/.local/lib/python3.7/site-packages (from pyquery) (1.1.0)\r\n",
      "Requirement already satisfied: lxml>=2.1 in /home/elvis/.local/lib/python3.7/site-packages (from pyquery) (4.4.1)\r\n"
     ]
    }
   ],
   "source": [
    "!pip3 install pyquery\n",
    "from pyquery import PyQuery\n",
    "from datetime import datetime\n",
    "dicionarioIssues = {}"
   ]
  },
  {
   "cell_type": "markdown",
   "metadata": {},
   "source": [
    "## Data structure"
   ]
  },
  {
   "cell_type": "code",
   "execution_count": 3,
   "metadata": {},
   "outputs": [],
   "source": [
    "def parseUrl(url, comment=\"\"):\n",
    "    if not \"/\" in url:\n",
    "        url = repoLink + \"/commit/\" + url\n",
    "    if url.endswith(\"/\"):\n",
    "        url = url[:-1]\n",
    "    html = PyQuery(url=url)\n",
    "    htmlIssue = PyQuery(url=html('.issue-link').attr('href')) if html('.issue-link') else \"\"\n",
    "    \n",
    "    return {\n",
    "        'commit': html('.commit-title').html().split(\"<\")[0].strip(),\n",
    "        'issue': {\n",
    "            'name': htmlIssue('.js-issue-title').html().strip() if html('.issue-link') else \"No issue\",\n",
    "            'number': htmlIssue('.gh-header-number').html().split(\"#\")[1].strip() if html('.issue-link') else \"0\",\n",
    "            'link': html('.issue-link').attr('href') if html('.issue-link') else \"#\",\n",
    "        },\n",
    "        'tokens': int(html('.toc-diff-stats')('strong')[1].text.split(\" addition\")[0].split(\" deletion\")[0].replace(',', '')),\n",
    "        'author': {\n",
    "            'name': html('.commit-author').html(),\n",
    "            'avatar': html('.AvatarStack-body')('img').attr('src'),\n",
    "            'link': f\"https://github.com{html('.AvatarStack-body')('a').attr('href')}\",\n",
    "        },\n",
    "        'link': url,\n",
    "        'comment': comment,\n",
    "        'date': html('relative-time').html(),\n",
    "        'datetime': html('relative-time').attr('datetime')\n",
    "    }"
   ]
  },
  {
   "cell_type": "markdown",
   "metadata": {},
   "source": [
    "## Parsing Github commit URLs"
   ]
  },
  {
   "cell_type": "code",
   "execution_count": 4,
   "metadata": {
    "scrolled": true
   },
   "outputs": [
    {
     "name": "stdout",
     "output_type": "stream",
     "text": [
      "[1/61] parsing https://github.com/alvelvis/UD_Portuguese-Bosque/commit/b94ee2908404475aaf65f3358d05bd39366e2ee3\n",
      "[2/61] parsing https://github.com/alvelvis/UD_Portuguese-Bosque/commit/4ef856b77a79071ba9c4c38afc056a5474f29423\n",
      "[3/61] parsing https://github.com/alvelvis/UD_Portuguese-Bosque/commit/dec21d23c028f361c87be469ab2ede6d653077b6\n",
      "[4/61] parsing fedb13cea2cd37a781b48013f960b184d8164660\n",
      "[5/61] parsing https://github.com/alvelvis/UD_Portuguese-Bosque/commit/3614f1800e45e288c47ff997474efd39fabac614/\n",
      "[6/61] parsing https://github.com/alvelvis/UD_Portuguese-Bosque/commit/afc588318bdcde36680e1ad3aae7c6fe50a98508\n",
      "[7/61] parsing https://github.com/alvelvis/UD_Portuguese-Bosque/commit/7b73d506270f0d9da030e7d287516a8fac0e397b\n",
      "[8/61] parsing https://github.com/alvelvis/UD_Portuguese-Bosque/commit/b9243f3921000f22990d5dfd181507638010dc50\n",
      "[9/61] parsing https://github.com/alvelvis/UD_Portuguese-Bosque/commit/136e924b6294692e2ca9c15b7cb15a7b880141d3\n",
      "[10/61] parsing https://github.com/alvelvis/UD_Portuguese-Bosque/commit/aab3b33a7b093ec86e303bd953a40355fc4f0070\n",
      "[11/61] parsing https://github.com/alvelvis/UD_Portuguese-Bosque/commit/abe18ec276f7b6f12fa0ec215dd77139485ba9f8\n",
      "[12/61] parsing https://github.com/alvelvis/UD_Portuguese-Bosque/commit/fbd8936988b46e1cddb29b048f853da1f4c7b634\n",
      "[13/61] parsing https://github.com/alvelvis/UD_Portuguese-Bosque/commit/b7a954f66d3fce38bfa1e33c91c5251a8842c48d\n",
      "[14/61] parsing https://github.com/alvelvis/UD_Portuguese-Bosque/commit/c7516121b148fc8d7c8ad78a7e6dd29b3dc2adbb\n",
      "[15/61] parsing https://github.com/alvelvis/UD_Portuguese-Bosque/commit/ad848e26439a90eb29b7b5796dacc7e8c24658a5\n",
      "[16/61] parsing https://github.com/alvelvis/UD_Portuguese-Bosque/commit/f550edb6b6e5994f4aa4a0bbed133c7f13192f59\n",
      "[17/61] parsing https://github.com/alvelvis/UD_Portuguese-Bosque/commit/8127a24a3deac50b36d6baf7f5c565e0ce181ed7\n",
      "[18/61] parsing https://github.com/alvelvis/UD_Portuguese-Bosque/commit/9b292715bfefa704dfa57ae20e6c6c673ed0f2b4\n",
      "[19/61] parsing https://github.com/alvelvis/UD_Portuguese-Bosque/commit/b049b00f167d411e211b44669f3b8fdff080bdad\n",
      "[20/61] parsing https://github.com/alvelvis/UD_Portuguese-Bosque/commit/8f7bf75bfb077609851dc382a8761b60c211d09c\n",
      "[21/61] parsing https://github.com/alvelvis/UD_Portuguese-Bosque/commit/ce9f2617539845c86461bd1cea0438f523650fed\n",
      "[22/61] parsing https://github.com/alvelvis/UD_Portuguese-Bosque/commit/000d28eb23cd9494c2872fe6ee041ae35ab5d439\n",
      "[23/61] parsing https://github.com/alvelvis/UD_Portuguese-Bosque/commit/92fc86a54342f27e39a55aba40f49ac8eba3ee9b\n",
      "[24/61] parsing https://github.com/alvelvis/UD_Portuguese-Bosque/commit/f0e7c3676a66cb17572ce92a3f4042547e95bce7\n",
      "[25/61] parsing https://github.com/alvelvis/UD_Portuguese-Bosque/commit/b46a6b105bc320a604e1252a0188ffde548f28aa\n",
      "[26/61] parsing https://github.com/alvelvis/UD_Portuguese-Bosque/commit/fd7fa249ef6812acb0a87c8ded03a74760e9a6cb\n",
      "[27/61] parsing https://github.com/alvelvis/UD_Portuguese-Bosque/commit/d833d5d755ed5ac19b59d10fea9e05e24c518a7a\n",
      "[28/61] parsing https://github.com/alvelvis/UD_Portuguese-Bosque/commit/cae17634965acb8c9414bc7f012c6b3da40c982a\n",
      "[29/61] parsing https://github.com/alvelvis/UD_Portuguese-Bosque/commit/425e2f8c0ea1fa4bea3b0fab3bae17595de951fd\n",
      "[30/61] parsing https://github.com/alvelvis/UD_Portuguese-Bosque/commit/0ba5a48c029266a99d30dfcdaf22526c90c42bed\n",
      "[31/61] parsing https://github.com/alvelvis/UD_Portuguese-Bosque/commit/ba3a0d5e3b4983d6431fcea8a5945a8b07552804\n",
      "[32/61] parsing https://github.com/alvelvis/UD_Portuguese-Bosque/commit/f5987b525440a15887fa373f75b96c16a097e9c7\n",
      "[33/61] parsing https://github.com/alvelvis/UD_Portuguese-Bosque/commit/1bc17abf7a495826973735b824941217d6057053\n",
      "[34/61] parsing https://github.com/alvelvis/UD_Portuguese-Bosque/commit/24b2d0ebbcaf4a6403df974f7df0974d21f23900\n",
      "[35/61] parsing https://github.com/alvelvis/UD_Portuguese-Bosque/commit/d0a77b84ee413f70130862db171b8d259da9d1fd\n",
      "[36/61] parsing https://github.com/alvelvis/UD_Portuguese-Bosque/commit/a9b60db18676ce5e7e415ad120fb757b00e5a03e\n",
      "[37/61] parsing https://github.com/alvelvis/UD_Portuguese-Bosque/commit/70ea68118ccb6de8ff94e1a5d2c7e3697b60e2d1\n",
      "[38/61] parsing https://github.com/alvelvis/UD_Portuguese-Bosque/commit/454241d9b3f74fa6a51f0f3df034122a46e9dd24\n",
      "[39/61] parsing https://github.com/alvelvis/UD_Portuguese-Bosque/commit/5e326dc545a987e90637f8368899242bcf403f4b\n",
      "[40/61] parsing https://github.com/alvelvis/UD_Portuguese-Bosque/commit/3057b47adcf0c85817c1aa625a189eb1fb684828\n",
      "[41/61] parsing https://github.com/alvelvis/UD_Portuguese-Bosque/commit/f0bc88d600dbe01cb1225e36212b60f3406b4947\n",
      "[42/61] parsing https://github.com/alvelvis/UD_Portuguese-Bosque/commit/b4538d8926d852c9c65ca98eda19384060ad0f8e\n",
      "[43/61] parsing https://github.com/alvelvis/UD_Portuguese-Bosque/commit/94ccd438157a3a5d5c504093b5dd7bc03927b1db\n",
      "[44/61] parsing https://github.com/alvelvis/UD_Portuguese-Bosque/commit/3b316f28f0333940adfa00d3d4e5aa4afb0a76ae\n",
      "[45/61] parsing https://github.com/alvelvis/UD_Portuguese-Bosque/commit/61e557b2da9f5679bf3eeb050061eb81e7bb0f5c\n",
      "[46/61] parsing https://github.com/alvelvis/UD_Portuguese-Bosque/commit/7f4026de91c29eded539fda177e18de0f2245489\n",
      "[47/61] parsing https://github.com/alvelvis/UD_Portuguese-Bosque/commit/53b2dd95c97130a19fe5b271453eb6403836e2b7\n",
      "[48/61] parsing https://github.com/alvelvis/UD_Portuguese-Bosque/commit/f4c1d7411436acb4827746dc3f4bcd4f3e2d3dc6\n",
      "[49/61] parsing https://github.com/alvelvis/UD_Portuguese-Bosque/commit/6d78b24815aca182a846cf1839fddfc94a90b2c7\n",
      "[50/61] parsing https://github.com/alvelvis/UD_Portuguese-Bosque/commit/76c865f22670bcf71d1777e060cdb0e80655837e\n",
      "[51/61] parsing https://github.com/alvelvis/UD_Portuguese-Bosque/commit/3f6e804a01a83f5c3e243b3bf847ef3d03d9d8e8\n",
      "[52/61] parsing https://github.com/alvelvis/UD_Portuguese-Bosque/commit/ee761fde9666f3db166dff7169351ebcc99e82c8\n",
      "[53/61] parsing https://github.com/alvelvis/UD_Portuguese-Bosque/commit/69016af720c13248abc486004e6f128100fa5997\n",
      "[54/61] parsing https://github.com/alvelvis/UD_Portuguese-Bosque/commit/e79c69c158349b7bd0c325b4a81017f89734fa3a\n",
      "[55/61] parsing https://github.com/alvelvis/UD_Portuguese-Bosque/commit/61b12bf92b4bad6ca50d46b99e3c5b836973f3ec\n",
      "[56/61] parsing https://github.com/alvelvis/UD_Portuguese-Bosque/commit/4f5ea94d6dc123d010ee7b8995dfa77da1a84615\n",
      "[57/61] parsing https://github.com/alvelvis/UD_Portuguese-Bosque/commit/c5e1045ddfbf2cd378fb91d240e3ca3b690630c0\n",
      "[58/61] parsing https://github.com/alvelvis/UD_Portuguese-Bosque/commit/94902f0f71c6c2a6a82a0ffdb99b6d034a5eefb0\n",
      "[59/61] parsing https://github.com/alvelvis/UD_Portuguese-Bosque/commit/32e13f3a2c843a3c2bbc57c5b595cbee2d68a47d\n",
      "[60/61] parsing https://github.com/alvelvis/UD_Portuguese-Bosque/commit/680aca69b30619f6faea0b7122c5a124f4e3e45a\n",
      "[61/61] parsing https://github.com/UniversalDependencies/UD_Portuguese-Bosque/commit/184d4f74a5f6e1d2728fd6a6237f545dd1754545\n"
     ]
    }
   ],
   "source": [
    "listaDeCommits = []\n",
    "[listaDeCommits.append(x) for x in commitsLinks if not x in listaDeCommits]\n",
    "\n",
    "if not initialCommit:\n",
    "    initialCommit = commitsLinks[0]\n",
    "if not finalCommit:\n",
    "    finalCommit = commitsLinks[-1]\n",
    "    \n",
    "if initialCommit and finalCommit:\n",
    "    initialCommitDate = parseUrl(initialCommit)['date']\n",
    "    finalCommitDate = parseUrl(finalCommit)['date']\n",
    "\n",
    "for i, url in enumerate(listaDeCommits):\n",
    "    print(f\"[{i+1}/{len(listaDeCommits)}] parsing {url.split('|')[0]}\")\n",
    "    commit = parseUrl(url.split(\"|\")[0], url.split(\"|\")[1] if len(url.split(\"|\")) > 1 else \"\")\n",
    "    if not f\"{commit['issue']['name']} #{commit['issue']['number']}\" in dicionarioIssues:\n",
    "        dicionarioIssues[f\"{commit['issue']['name']} #{commit['issue']['number']}\"] = []\n",
    "    dicionarioIssues[f\"{commit['issue']['name']} #{commit['issue']['number']}\"].append(commit)"
   ]
  },
  {
   "cell_type": "markdown",
   "metadata": {},
   "source": [
    "## Mounting and saving the HTML page"
   ]
  },
  {
   "cell_type": "code",
   "execution_count": 6,
   "metadata": {},
   "outputs": [
    {
     "name": "stdout",
     "output_type": "stream",
     "text": [
      "https://comcorhd.ga/xp/commits-log\n"
     ]
    }
   ],
   "source": [
    "html = \"<title>Commits: \" + logName + \" v\" + logVersion + \"</title><style>td,th{ padding:8px; } body{ width:45vw; margin:auto; margin-top:10px; }</style>\"\n",
    "html += f\"<h1>Commits: <a href='{repoLink}'>{logName}</a></h1><hr>\"\n",
    "html += f\"Version {logVersion}\"\n",
    "if initialCommit and finalCommit: html += f\" - commits from <a target='_blank' href='{repoLink + '/commit/' + initialCommit if not '/' in initialCommit else initialCommit}'>{initialCommitDate}</a> to <a href='{repoLink + '/commit/' + finalCommit if not '/' in finalCommit else finalCommit}' target='_blank'>{finalCommitDate}</a>\"\n",
    "html += f\"<br><br>Total issues: {len(dicionarioIssues)}\"\n",
    "html += f\"<br>Total commits: {sum([len(dicionarioIssues[x]) for x in dicionarioIssues])}\"\n",
    "html += f\"<br>Total changes: {sum([sum([y['tokens'] for y in dicionarioIssues[x]]) for x in dicionarioIssues])}\"\n",
    "html += \"<br>\"\n",
    "html += \"<h3>Issues:</h3>\"\n",
    "html += \"<ul>\"\n",
    "html += f'''{\"\".join(['<li><a href=\"#' + x + '\">' + x + '</a> (' + str(sum([y['tokens'] for y in dicionarioIssues[x]])) + ' changes)</li>' for x in dicionarioIssues])}'''\n",
    "html += \"</ul><br><br>\"\n",
    "\n",
    "for item in sorted(dicionarioIssues, key=lambda x: int(x.split(\"#\")[1])):\n",
    "    html += f'<table border=\"1\" style=\"margin:auto; border-collapse: collapse;\"><tr><th id=\"{item}\" colspan=\"42\" style=\"font-size:24px\"><center>{item.split(\"#\")[0]} <a target=\"_blank\" href=\"{repoLink}/issues/{item.split(\"#\")[1]}\">#{item.split(\"#\")[1]}</a></center></th></tr><tr><td colspan=\"42\" style=\"text-align:center\">{sum([x[\"tokens\"] for x in dicionarioIssues[item]])} changes</td></tr>'\n",
    "    html += '<tr><th>Author</th><th>Commit</th><th>Changes</th><th>Comments</th></tr>'\n",
    "    for commit in sorted(dicionarioIssues[item], key=lambda x: x['datetime']):\n",
    "        html += '<tr><td><center><a href=\"{authorLink}\" target=\"_blank\"><img title=\"{authorName}\" src=\"{authorImg}\" style=\"height:40px; width:auto;\"></a></center></td><td><a target=\"_blank\" href=\"{commitLink}\">{commitName}</a><br><small>{commitDate}</small></td><td><center>{total}</center></td><td>{comment}</td></tr>'.format(\n",
    "            authorLink=commit['author']['link'],\n",
    "            authorImg=commit['author']['avatar'],\n",
    "            authorName=commit['author']['name'],\n",
    "            commitName=commit['commit'],\n",
    "            commitLink=commit['link'],\n",
    "            total=commit['tokens'],\n",
    "            comment=commit['comment'],\n",
    "            commitDate=commit['date'],\n",
    "        )\n",
    "\n",
    "    html += '</table><br><a href=\"#\">Back to top</a><br><br><br>'\n",
    "\n",
    "        \n",
    "html += f\"<hr>Log updated in {datetime.now()}<br><a target='_blank' href='https://github.com/alvelvis/commits-log/'>Fork me on Github</a><br><br>\"\n",
    "with open(logName + \"-v\" + logVersion + \".html\", \"w\") as f:\n",
    "    f.write(html)\n",
    "    \n",
    "print(f'{xpLink}')"
   ]
  }
 ],
 "metadata": {
  "kernelspec": {
   "display_name": "Python 3",
   "language": "python",
   "name": "python3"
  },
  "language_info": {
   "codemirror_mode": {
    "name": "ipython",
    "version": 3
   },
   "file_extension": ".py",
   "mimetype": "text/x-python",
   "name": "python",
   "nbconvert_exporter": "python",
   "pygments_lexer": "ipython3",
   "version": "3.7.3"
  }
 },
 "nbformat": 4,
 "nbformat_minor": 2
}
